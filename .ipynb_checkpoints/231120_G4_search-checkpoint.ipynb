{
 "cells": [
  {
   "cell_type": "markdown",
   "id": "c87bfb0d-593d-45fb-9f9f-63f5cac35138",
   "metadata": {},
   "source": [
    "# Searching for G4 motifs in protein coding genes \n",
    "Archishma Kavalipati \n",
    "\n",
    "started analysis 23/11/20"
   ]
  },
  {
   "cell_type": "code",
   "execution_count": 1,
   "id": "f2842d4b-7fba-4ac6-9914-4168a688187a",
   "metadata": {},
   "outputs": [],
   "source": [
    "import pandas as pd \n",
    "import matplotlib.pyplot as plt "
   ]
  },
  {
   "cell_type": "code",
   "execution_count": 2,
   "id": "48b95fa4-210e-41d9-bf82-fb0ff6a26347",
   "metadata": {},
   "outputs": [
    {
     "name": "stdout",
     "output_type": "stream",
     "text": [
      "basic.transcriptome.fa.gz\n",
      "GCA_000001405.15_GRCh38_no_alt_plus_hs38d1_analysis_set.fa\n",
      "GCA_000001405.15_GRCh38_no_alt_plus_hs38d1_analysis_set.fa.fai\n",
      "gencode.v44.basic.annotation.gtf.gz\n",
      "gencode.v44.transcriptome.fa.gz\n",
      "genome.gtf\n",
      "\u001b[0m\u001b[01;34mkallisto\u001b[0m/\n",
      "kallisto_index.sh\n",
      "reformat_gencode_ensembl_annotation.sh\n",
      "\u001b[01;34msalmon\u001b[0m/\n",
      "salmon_index.sh\n",
      "\u001b[01;34mSTAR\u001b[0m/\n",
      "star_index.sh\n",
      "transcriptome_filter.py\n",
      "transcripts_gtf.txt\n"
     ]
    }
   ],
   "source": [
    "# this is the path to GENCODE annotations in lab cluster\n",
    "%ls /proj/RNA_lab/GRCh38_gencode_v44/"
   ]
  },
  {
   "cell_type": "code",
   "execution_count": 3,
   "id": "d968060f-9be5-48fe-ad1b-3a5d2217c148",
   "metadata": {},
   "outputs": [],
   "source": [
    "# these are ENSEMBL annotations, which contain everything \n",
    "ensembl = \"/proj/RNA_lab/Genomic_Indexes/Human/Homo_sapiens.GRCh38.108.chr.gtf\"\n",
    "\n",
    "# these are GENCODE basic annotations, parsed by Jose to include diff versions of same genes\n",
    "# (closer to ENSEMBL format)\n",
    "# I will be using these to find protein coding genes \n",
    "gencode = \"/proj/RNA_lab/GRCh38_gencode_v44/genome.gtf\""
   ]
  },
  {
   "cell_type": "markdown",
   "id": "541dc1fb-ea73-44e8-88b2-3dbb3dd9caae",
   "metadata": {},
   "source": [
    "### Following code didn't work out"
   ]
  },
  {
   "cell_type": "code",
   "execution_count": 4,
   "id": "06f4d734-a1d2-4674-9fdb-84b0d8e18a4b",
   "metadata": {},
   "outputs": [],
   "source": [
    "## Not sure why I was trying to do this \n",
    "\n",
    "# gtf = None\n",
    "# with open(gencode) as gtf:\n",
    "#     gtf = gtf.readlines()[5:]"
   ]
  },
  {
   "cell_type": "code",
   "execution_count": 5,
   "id": "51dd4c08-c6d8-46de-bc89-0834552a2f08",
   "metadata": {},
   "outputs": [],
   "source": [
    "# gtf = pd.Series(gtf) # so we can use pd.apply() on the objects "
   ]
  },
  {
   "cell_type": "code",
   "execution_count": 6,
   "id": "65101f80-8794-4b03-8842-0df4e855ca68",
   "metadata": {},
   "outputs": [],
   "source": [
    "# gtf = gtf.apply(lambda x: x.split('\\t'))"
   ]
  },
  {
   "cell_type": "code",
   "execution_count": 7,
   "id": "0793c751-957a-4fd0-8b9b-deda8b1ed430",
   "metadata": {},
   "outputs": [],
   "source": [
    "# # see output \n",
    "# print(gtf[0])\n",
    "\n",
    "# # length \n",
    "# print(len(gtf))"
   ]
  },
  {
   "cell_type": "code",
   "execution_count": 8,
   "id": "26ef7847-5725-4d3f-803c-12645582fb90",
   "metadata": {},
   "outputs": [],
   "source": [
    "# gtf = pd.DataFrame(row for row in gtf)"
   ]
  },
  {
   "cell_type": "code",
   "execution_count": 9,
   "id": "b3f244f1-5178-406b-8afe-10860c859111",
   "metadata": {},
   "outputs": [],
   "source": [
    "# gtf.columns = ['chr', 'annotations', 'type', 'start', 'end', 'score', 'strand', 'phase', 'info']"
   ]
  },
  {
   "cell_type": "code",
   "execution_count": 10,
   "id": "9820799a-8a33-4195-a84d-fe1b420b7f50",
   "metadata": {},
   "outputs": [],
   "source": [
    "# gtf = gtf.drop(axis = 1, labels = [\"score\", \"phase\"])\n",
    "# gtf"
   ]
  },
  {
   "cell_type": "code",
   "execution_count": 11,
   "id": "712941b8-fd07-404b-99a6-baf92573a319",
   "metadata": {},
   "outputs": [],
   "source": [
    "# info = gtf[[\"info\"]] # get info out of key value pairs "
   ]
  },
  {
   "cell_type": "code",
   "execution_count": 12,
   "id": "a74d4eff-1dc6-431a-8014-ef247d8f73c8",
   "metadata": {},
   "outputs": [],
   "source": [
    "# def info_parser(info):\n",
    "#     '''Takes in info string. Gets out argument values.'''\n",
    "#     info = info.split(\";\")\n",
    "#     vals = [\"gene_id\", \"gene_version\", \"gene_type\", \"gene_name\", \"level\", \"tag\"]\n",
    "#     # sanity checking with if statements \n",
    "#     gene_id = info[0].split(vals[0]) if vals[0] in info[0] else \"\"\n",
    "#     gene_version = info[1].split(vals[1]) if vals[1] in info[1] else \"\"\n",
    "#     gene_type = info[2].split(vals[2]) if vals[2] in info[2] else \"\"\n",
    "#     gene_name = info[3].split(vals[3]) if vals[3] in info[3] else \"\"\n",
    "#     level = info[4].split(vals[4]) if vals[4] in info[4] else \"\"\n",
    "#     tag = info[5].split(vals[5]) if vals[5] in info[5] else \"\"\n",
    "    \n",
    "#     print(gene_id[1])\n",
    "#     parsed_vals = [x[1].strip(\" \").strip(\"\\\"\") for x in [gene_id, gene_version, gene_type, gene_name, level, tag]]\n",
    "#     return(parsed_vals)"
   ]
  },
  {
   "cell_type": "code",
   "execution_count": 13,
   "id": "ddfa1974-7b58-439d-bd6f-add67b3c64db",
   "metadata": {},
   "outputs": [],
   "source": [
    "# type(info[\"info\"])"
   ]
  },
  {
   "cell_type": "code",
   "execution_count": 14,
   "id": "a65d3ee2-a17c-4687-a065-39d13e074a8f",
   "metadata": {},
   "outputs": [],
   "source": [
    "# # try out the info parser on first line\n",
    "# info_parser(info[\"info\"][0])"
   ]
  },
  {
   "cell_type": "code",
   "execution_count": 15,
   "id": "afb41ab3-929b-4095-8fb0-5f78e736ccad",
   "metadata": {},
   "outputs": [],
   "source": [
    "# info[\"info\"].apply(info_parser)"
   ]
  },
  {
   "cell_type": "markdown",
   "id": "f7fc6273-787c-4ef5-bb0a-670afd00c03e",
   "metadata": {},
   "source": [
    "## Faster method\n",
    "### I used the following code in the command line to only subset the protein coding genes from the gtf file\n",
    "`awk '/protein_coding/ {print}' genome.gtf > ~/genome.proteinCoding.gtf`  \n",
    "and then:  \n",
    "`awk '{print $1, $2, $3, $4, $5, $7, $10}' genome.proteinCoding.gtf > genome.proteinCoding.subset.gtf`  \n",
    "to get the output file:  \n",
    "`genome.proteinCoding.subset.gtf`\n",
    "\n",
    "anatomy of the file:  \n",
    "| chr | annotation | gene_type | start | end | strand | gene_id |  "
   ]
  },
  {
   "cell_type": "code",
   "execution_count": 16,
   "id": "206f46bf-faac-4500-80c7-cecb4758f38b",
   "metadata": {},
   "outputs": [],
   "source": [
    "coding = pd.read_csv(\"/nas/longleaf/home/askav/rna/autoregulation/g4/genome.proteinCoding.subset.gtf\", sep=\" \", header=None)"
   ]
  },
  {
   "cell_type": "code",
   "execution_count": 17,
   "id": "ef376fa7-fa21-4596-ae5c-823471482a32",
   "metadata": {},
   "outputs": [],
   "source": [
    "coding[6] = coding[6].apply(lambda x: x.strip(';')) # get rid of trailing ';' character "
   ]
  },
  {
   "cell_type": "code",
   "execution_count": 18,
   "id": "b33b04c3-932f-450e-8154-6f192a24280a",
   "metadata": {},
   "outputs": [],
   "source": [
    "coding.columns = ['chr', 'annotation', 'type', 'start', 'end', 'strand', 'gene_id']"
   ]
  },
  {
   "cell_type": "code",
   "execution_count": 19,
   "id": "33bce3e1-eefc-4775-97ce-ec6827285bb3",
   "metadata": {},
   "outputs": [
    {
     "data": {
      "text/html": [
       "<div>\n",
       "<style scoped>\n",
       "    .dataframe tbody tr th:only-of-type {\n",
       "        vertical-align: middle;\n",
       "    }\n",
       "\n",
       "    .dataframe tbody tr th {\n",
       "        vertical-align: top;\n",
       "    }\n",
       "\n",
       "    .dataframe thead th {\n",
       "        text-align: right;\n",
       "    }\n",
       "</style>\n",
       "<table border=\"1\" class=\"dataframe\">\n",
       "  <thead>\n",
       "    <tr style=\"text-align: right;\">\n",
       "      <th></th>\n",
       "      <th>chr</th>\n",
       "      <th>annotation</th>\n",
       "      <th>type</th>\n",
       "      <th>start</th>\n",
       "      <th>end</th>\n",
       "      <th>strand</th>\n",
       "      <th>gene_id</th>\n",
       "    </tr>\n",
       "  </thead>\n",
       "  <tbody>\n",
       "    <tr>\n",
       "      <th>0</th>\n",
       "      <td>chr1</td>\n",
       "      <td>HAVANA</td>\n",
       "      <td>gene</td>\n",
       "      <td>65419</td>\n",
       "      <td>71585</td>\n",
       "      <td>+</td>\n",
       "      <td>ENSG00000186092</td>\n",
       "    </tr>\n",
       "    <tr>\n",
       "      <th>1</th>\n",
       "      <td>chr1</td>\n",
       "      <td>HAVANA</td>\n",
       "      <td>transcript</td>\n",
       "      <td>65419</td>\n",
       "      <td>71585</td>\n",
       "      <td>+</td>\n",
       "      <td>ENSG00000186092</td>\n",
       "    </tr>\n",
       "    <tr>\n",
       "      <th>2</th>\n",
       "      <td>chr1</td>\n",
       "      <td>HAVANA</td>\n",
       "      <td>exon</td>\n",
       "      <td>65419</td>\n",
       "      <td>65433</td>\n",
       "      <td>+</td>\n",
       "      <td>ENSG00000186092</td>\n",
       "    </tr>\n",
       "    <tr>\n",
       "      <th>3</th>\n",
       "      <td>chr1</td>\n",
       "      <td>HAVANA</td>\n",
       "      <td>exon</td>\n",
       "      <td>65520</td>\n",
       "      <td>65573</td>\n",
       "      <td>+</td>\n",
       "      <td>ENSG00000186092</td>\n",
       "    </tr>\n",
       "    <tr>\n",
       "      <th>4</th>\n",
       "      <td>chr1</td>\n",
       "      <td>HAVANA</td>\n",
       "      <td>CDS</td>\n",
       "      <td>65565</td>\n",
       "      <td>65573</td>\n",
       "      <td>+</td>\n",
       "      <td>ENSG00000186092</td>\n",
       "    </tr>\n",
       "    <tr>\n",
       "      <th>...</th>\n",
       "      <td>...</td>\n",
       "      <td>...</td>\n",
       "      <td>...</td>\n",
       "      <td>...</td>\n",
       "      <td>...</td>\n",
       "      <td>...</td>\n",
       "      <td>...</td>\n",
       "    </tr>\n",
       "    <tr>\n",
       "      <th>1757648</th>\n",
       "      <td>chrM</td>\n",
       "      <td>ENSEMBL</td>\n",
       "      <td>gene</td>\n",
       "      <td>14747</td>\n",
       "      <td>15887</td>\n",
       "      <td>+</td>\n",
       "      <td>ENSG00000198727</td>\n",
       "    </tr>\n",
       "    <tr>\n",
       "      <th>1757649</th>\n",
       "      <td>chrM</td>\n",
       "      <td>ENSEMBL</td>\n",
       "      <td>transcript</td>\n",
       "      <td>14747</td>\n",
       "      <td>15887</td>\n",
       "      <td>+</td>\n",
       "      <td>ENSG00000198727</td>\n",
       "    </tr>\n",
       "    <tr>\n",
       "      <th>1757650</th>\n",
       "      <td>chrM</td>\n",
       "      <td>ENSEMBL</td>\n",
       "      <td>exon</td>\n",
       "      <td>14747</td>\n",
       "      <td>15887</td>\n",
       "      <td>+</td>\n",
       "      <td>ENSG00000198727</td>\n",
       "    </tr>\n",
       "    <tr>\n",
       "      <th>1757651</th>\n",
       "      <td>chrM</td>\n",
       "      <td>ENSEMBL</td>\n",
       "      <td>CDS</td>\n",
       "      <td>14747</td>\n",
       "      <td>15887</td>\n",
       "      <td>+</td>\n",
       "      <td>ENSG00000198727</td>\n",
       "    </tr>\n",
       "    <tr>\n",
       "      <th>1757652</th>\n",
       "      <td>chrM</td>\n",
       "      <td>ENSEMBL</td>\n",
       "      <td>start_codon</td>\n",
       "      <td>14747</td>\n",
       "      <td>14749</td>\n",
       "      <td>+</td>\n",
       "      <td>ENSG00000198727</td>\n",
       "    </tr>\n",
       "  </tbody>\n",
       "</table>\n",
       "<p>1757653 rows × 7 columns</p>\n",
       "</div>"
      ],
      "text/plain": [
       "          chr annotation         type  start    end strand          gene_id\n",
       "0        chr1     HAVANA         gene  65419  71585      +  ENSG00000186092\n",
       "1        chr1     HAVANA   transcript  65419  71585      +  ENSG00000186092\n",
       "2        chr1     HAVANA         exon  65419  65433      +  ENSG00000186092\n",
       "3        chr1     HAVANA         exon  65520  65573      +  ENSG00000186092\n",
       "4        chr1     HAVANA          CDS  65565  65573      +  ENSG00000186092\n",
       "...       ...        ...          ...    ...    ...    ...              ...\n",
       "1757648  chrM    ENSEMBL         gene  14747  15887      +  ENSG00000198727\n",
       "1757649  chrM    ENSEMBL   transcript  14747  15887      +  ENSG00000198727\n",
       "1757650  chrM    ENSEMBL         exon  14747  15887      +  ENSG00000198727\n",
       "1757651  chrM    ENSEMBL          CDS  14747  15887      +  ENSG00000198727\n",
       "1757652  chrM    ENSEMBL  start_codon  14747  14749      +  ENSG00000198727\n",
       "\n",
       "[1757653 rows x 7 columns]"
      ]
     },
     "execution_count": 19,
     "metadata": {},
     "output_type": "execute_result"
    }
   ],
   "source": [
    "coding"
   ]
  },
  {
   "cell_type": "markdown",
   "id": "3cfb5447-a91b-4787-b71c-cc9160598cbc",
   "metadata": {},
   "source": [
    "### workflow\n",
    "protein coding genes --> find coords --> get G4s using regex --> subset coords --> eCLIP BAMs corresponding to coords "
   ]
  },
  {
   "cell_type": "code",
   "execution_count": 20,
   "id": "ba8286cc-8503-435b-90e7-a1c8f274c8d3",
   "metadata": {},
   "outputs": [
    {
     "name": "stderr",
     "output_type": "stream",
     "text": [
      "/nas/longleaf/rhel8/apps/anaconda/2021.11.ood/lib/python3.9/site-packages/IPython/core/interactiveshell.py:3444: DtypeWarning: Columns (0) have mixed types.Specify dtype option on import or set low_memory=False.\n",
      "  exec(code_obj, self.user_global_ns, self.user_ns)\n"
     ]
    },
    {
     "data": {
      "text/html": [
       "<div>\n",
       "<style scoped>\n",
       "    .dataframe tbody tr th:only-of-type {\n",
       "        vertical-align: middle;\n",
       "    }\n",
       "\n",
       "    .dataframe tbody tr th {\n",
       "        vertical-align: top;\n",
       "    }\n",
       "\n",
       "    .dataframe thead th {\n",
       "        text-align: right;\n",
       "    }\n",
       "</style>\n",
       "<table border=\"1\" class=\"dataframe\">\n",
       "  <thead>\n",
       "    <tr style=\"text-align: right;\">\n",
       "      <th></th>\n",
       "      <th>1</th>\n",
       "      <th>1471765</th>\n",
       "      <th>1472089</th>\n",
       "      <th>gene_id \"ENSG00000160072\"; gene_version \"20\"; transcript_id \"ENST00000673477\"; transcript_version \"1\"; exon_number \"1\"; gene_name \"ATAD3B\"; gene_source \"ensembl_havana\"; gene_biotype \"protein_coding\"; transcript_name \"ATAD3B-206\"; transcript_source \"ensembl_havana\"; transcript_biotype \"protein_coding\"; tag \"CCDS\"; ccds_id \"CCDS30\"; exon_id \"ENSE00003889014\"; exon_version \"1\"; tag \"basic\"; tag \"Ensembl_canonical\"; tag \"MANE_Select\";</th>\n",
       "      <th>exon</th>\n",
       "      <th>+</th>\n",
       "    </tr>\n",
       "  </thead>\n",
       "  <tbody>\n",
       "    <tr>\n",
       "      <th>0</th>\n",
       "      <td>1</td>\n",
       "      <td>1471885</td>\n",
       "      <td>1472089</td>\n",
       "      <td>gene_id \"ENSG00000160072\"; gene_version \"20\"; ...</td>\n",
       "      <td>CDS</td>\n",
       "      <td>+</td>\n",
       "    </tr>\n",
       "    <tr>\n",
       "      <th>1</th>\n",
       "      <td>1</td>\n",
       "      <td>1471885</td>\n",
       "      <td>1471887</td>\n",
       "      <td>gene_id \"ENSG00000160072\"; gene_version \"20\"; ...</td>\n",
       "      <td>start_codon</td>\n",
       "      <td>+</td>\n",
       "    </tr>\n",
       "    <tr>\n",
       "      <th>2</th>\n",
       "      <td>1</td>\n",
       "      <td>1477274</td>\n",
       "      <td>1477350</td>\n",
       "      <td>gene_id \"ENSG00000160072\"; gene_version \"20\"; ...</td>\n",
       "      <td>exon</td>\n",
       "      <td>+</td>\n",
       "    </tr>\n",
       "    <tr>\n",
       "      <th>3</th>\n",
       "      <td>1</td>\n",
       "      <td>1477274</td>\n",
       "      <td>1477350</td>\n",
       "      <td>gene_id \"ENSG00000160072\"; gene_version \"20\"; ...</td>\n",
       "      <td>CDS</td>\n",
       "      <td>+</td>\n",
       "    </tr>\n",
       "    <tr>\n",
       "      <th>4</th>\n",
       "      <td>1</td>\n",
       "      <td>1478644</td>\n",
       "      <td>1478745</td>\n",
       "      <td>gene_id \"ENSG00000160072\"; gene_version \"20\"; ...</td>\n",
       "      <td>exon</td>\n",
       "      <td>+</td>\n",
       "    </tr>\n",
       "    <tr>\n",
       "      <th>...</th>\n",
       "      <td>...</td>\n",
       "      <td>...</td>\n",
       "      <td>...</td>\n",
       "      <td>...</td>\n",
       "      <td>...</td>\n",
       "      <td>...</td>\n",
       "    </tr>\n",
       "    <tr>\n",
       "      <th>2452843</th>\n",
       "      <td>MT</td>\n",
       "      <td>14671</td>\n",
       "      <td>14673</td>\n",
       "      <td>gene_id \"ENSG00000198695\"; gene_version \"2\"; t...</td>\n",
       "      <td>start_codon</td>\n",
       "      <td>-</td>\n",
       "    </tr>\n",
       "    <tr>\n",
       "      <th>2452844</th>\n",
       "      <td>MT</td>\n",
       "      <td>14149</td>\n",
       "      <td>14151</td>\n",
       "      <td>gene_id \"ENSG00000198695\"; gene_version \"2\"; t...</td>\n",
       "      <td>stop_codon</td>\n",
       "      <td>-</td>\n",
       "    </tr>\n",
       "    <tr>\n",
       "      <th>2452845</th>\n",
       "      <td>MT</td>\n",
       "      <td>14747</td>\n",
       "      <td>15887</td>\n",
       "      <td>gene_id \"ENSG00000198727\"; gene_version \"2\"; t...</td>\n",
       "      <td>exon</td>\n",
       "      <td>+</td>\n",
       "    </tr>\n",
       "    <tr>\n",
       "      <th>2452846</th>\n",
       "      <td>MT</td>\n",
       "      <td>14747</td>\n",
       "      <td>15887</td>\n",
       "      <td>gene_id \"ENSG00000198727\"; gene_version \"2\"; t...</td>\n",
       "      <td>CDS</td>\n",
       "      <td>+</td>\n",
       "    </tr>\n",
       "    <tr>\n",
       "      <th>2452847</th>\n",
       "      <td>MT</td>\n",
       "      <td>14747</td>\n",
       "      <td>14749</td>\n",
       "      <td>gene_id \"ENSG00000198727\"; gene_version \"2\"; t...</td>\n",
       "      <td>start_codon</td>\n",
       "      <td>+</td>\n",
       "    </tr>\n",
       "  </tbody>\n",
       "</table>\n",
       "<p>2452848 rows × 6 columns</p>\n",
       "</div>"
      ],
      "text/plain": [
       "          1  1471765  1472089  \\\n",
       "0         1  1471885  1472089   \n",
       "1         1  1471885  1471887   \n",
       "2         1  1477274  1477350   \n",
       "3         1  1477274  1477350   \n",
       "4         1  1478644  1478745   \n",
       "...      ..      ...      ...   \n",
       "2452843  MT    14671    14673   \n",
       "2452844  MT    14149    14151   \n",
       "2452845  MT    14747    15887   \n",
       "2452846  MT    14747    15887   \n",
       "2452847  MT    14747    14749   \n",
       "\n",
       "        gene_id \"ENSG00000160072\"; gene_version \"20\"; transcript_id \"ENST00000673477\"; transcript_version \"1\"; exon_number \"1\"; gene_name \"ATAD3B\"; gene_source \"ensembl_havana\"; gene_biotype \"protein_coding\"; transcript_name \"ATAD3B-206\"; transcript_source \"ensembl_havana\"; transcript_biotype \"protein_coding\"; tag \"CCDS\"; ccds_id \"CCDS30\"; exon_id \"ENSE00003889014\"; exon_version \"1\"; tag \"basic\"; tag \"Ensembl_canonical\"; tag \"MANE_Select\";  \\\n",
       "0        gene_id \"ENSG00000160072\"; gene_version \"20\"; ...                                                                                                                                                                                                                                                                                                                                                                                                    \n",
       "1        gene_id \"ENSG00000160072\"; gene_version \"20\"; ...                                                                                                                                                                                                                                                                                                                                                                                                    \n",
       "2        gene_id \"ENSG00000160072\"; gene_version \"20\"; ...                                                                                                                                                                                                                                                                                                                                                                                                    \n",
       "3        gene_id \"ENSG00000160072\"; gene_version \"20\"; ...                                                                                                                                                                                                                                                                                                                                                                                                    \n",
       "4        gene_id \"ENSG00000160072\"; gene_version \"20\"; ...                                                                                                                                                                                                                                                                                                                                                                                                    \n",
       "...                                                    ...                                                                                                                                                                                                                                                                                                                                                                                                    \n",
       "2452843  gene_id \"ENSG00000198695\"; gene_version \"2\"; t...                                                                                                                                                                                                                                                                                                                                                                                                    \n",
       "2452844  gene_id \"ENSG00000198695\"; gene_version \"2\"; t...                                                                                                                                                                                                                                                                                                                                                                                                    \n",
       "2452845  gene_id \"ENSG00000198727\"; gene_version \"2\"; t...                                                                                                                                                                                                                                                                                                                                                                                                    \n",
       "2452846  gene_id \"ENSG00000198727\"; gene_version \"2\"; t...                                                                                                                                                                                                                                                                                                                                                                                                    \n",
       "2452847  gene_id \"ENSG00000198727\"; gene_version \"2\"; t...                                                                                                                                                                                                                                                                                                                                                                                                    \n",
       "\n",
       "                exon  +  \n",
       "0                CDS  +  \n",
       "1        start_codon  +  \n",
       "2               exon  +  \n",
       "3                CDS  +  \n",
       "4               exon  +  \n",
       "...              ... ..  \n",
       "2452843  start_codon  -  \n",
       "2452844   stop_codon  -  \n",
       "2452845         exon  +  \n",
       "2452846          CDS  +  \n",
       "2452847  start_codon  +  \n",
       "\n",
       "[2452848 rows x 6 columns]"
      ]
     },
     "execution_count": 20,
     "metadata": {},
     "output_type": "execute_result"
    }
   ],
   "source": [
    "# dont use this!!!!\n",
    "## there's also this source of \"protein coding exons\" in /proj/RNA_lab/Genomic_Indexes\n",
    "exons_bed = pd.read_csv(\"/proj/RNA_lab/Genomic_Indexes/Human/Protein_Coding_Exons.bed\", sep=\"\\t\")\n",
    "exons_bed\n",
    "# has more genes counted than my method "
   ]
  },
  {
   "cell_type": "code",
   "execution_count": null,
   "id": "3a6a8ce3-19e2-4ef9-9e45-e786ed1741e5",
   "metadata": {},
   "outputs": [],
   "source": []
  }
 ],
 "metadata": {
  "kernelspec": {
   "display_name": "Python 3 (ipykernel)",
   "language": "python",
   "name": "python3"
  },
  "language_info": {
   "codemirror_mode": {
    "name": "ipython",
    "version": 3
   },
   "file_extension": ".py",
   "mimetype": "text/x-python",
   "name": "python",
   "nbconvert_exporter": "python",
   "pygments_lexer": "ipython3",
   "version": "3.9.7"
  }
 },
 "nbformat": 4,
 "nbformat_minor": 5
}
